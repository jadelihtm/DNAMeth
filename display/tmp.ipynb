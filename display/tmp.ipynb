{
 "cells": [
  {
   "cell_type": "code",
   "execution_count": 1,
   "metadata": {},
   "outputs": [],
   "source": [
    "import os\n",
    "import cv2\n",
    "import numpy as np"
   ]
  },
  {
   "cell_type": "code",
   "execution_count": 2,
   "metadata": {},
   "outputs": [],
   "source": [
    "basedir = \"/workspace/algorithm/lijia/liyu/DNAMeth/swavDNA/check_100kbVMRs_linear_lr0.1_nopretrianed/Fold0/cam/test/\""
   ]
  },
  {
   "cell_type": "code",
   "execution_count": 3,
   "metadata": {},
   "outputs": [],
   "source": [
    "cates = []\n",
    "filenames = []\n",
    "for i in os.listdir(basedir):\n",
    "    icate = i.split(\".png\")[0].split(\"_\")[-1]\n",
    "    cates.append(icate)\n",
    "    filenames.append(i)\n"
   ]
  },
  {
   "cell_type": "code",
   "execution_count": 4,
   "metadata": {},
   "outputs": [],
   "source": [
    "num = len(set(list(cates)))\n",
    "celltypes = list(set(list(cates)))"
   ]
  },
  {
   "cell_type": "code",
   "execution_count": null,
   "metadata": {},
   "outputs": [],
   "source": [
    "for i,ifile in enumerate(filenames):\n",
    "    for icate in celltypes:\n",
    "        if cates[i] == icate:\n",
    "            img = cv2.imread(os.path.join(basedir,ifile))\n",
    "            gray = cv2.cvtColor(img,cv2.COLOR_BGR2GRAY)/255\n",
    "            print(np.mean(gray))"
   ]
  }
 ],
 "metadata": {
  "kernelspec": {
   "display_name": "liyudown",
   "language": "python",
   "name": "python3"
  },
  "language_info": {
   "codemirror_mode": {
    "name": "ipython",
    "version": 3
   },
   "file_extension": ".py",
   "mimetype": "text/x-python",
   "name": "python",
   "nbconvert_exporter": "python",
   "pygments_lexer": "ipython3",
   "version": "3.8.19"
  }
 },
 "nbformat": 4,
 "nbformat_minor": 2
}
