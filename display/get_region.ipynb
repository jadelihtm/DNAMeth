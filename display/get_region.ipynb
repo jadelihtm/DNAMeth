{
 "cells": [
  {
   "cell_type": "code",
   "execution_count": 1,
   "metadata": {},
   "outputs": [],
   "source": [
    "import os\n",
    "import pandas as pd\n",
    "regions = []\n",
    "slices = []\n",
    "for i in os.listdir('/workspace/algorithm/lijia/liyu/DNAMeth/data9000/img100kbself_rmxy_5fold/Fold0/test/'):\n",
    "    for j in os.listdir(os.path.join('/workspace/algorithm/lijia/liyu/DNAMeth/data9000/img100kbself_rmxy_5fold/Fold0/test/',i)):\n",
    "        region = j.split(\"_\")[7]\n",
    "        slice = j.split(\"_\")[6]\n",
    "        regions+=[region]\n",
    "        slices+=[slice]\n"
   ]
  },
  {
   "cell_type": "code",
   "execution_count": 4,
   "metadata": {},
   "outputs": [
    {
     "data": {
      "text/plain": [
       "['1A', '3E', '3C', '4F', '2C', '5D', '4B', '4E', '3A']"
      ]
     },
     "execution_count": 4,
     "metadata": {},
     "output_type": "execute_result"
    }
   ],
   "source": [
    "list(set(slices))"
   ]
  }
 ],
 "metadata": {
  "kernelspec": {
   "display_name": "liyudown",
   "language": "python",
   "name": "python3"
  },
  "language_info": {
   "codemirror_mode": {
    "name": "ipython",
    "version": 3
   },
   "file_extension": ".py",
   "mimetype": "text/x-python",
   "name": "python",
   "nbconvert_exporter": "python",
   "pygments_lexer": "ipython3",
   "version": "3.8.19"
  }
 },
 "nbformat": 4,
 "nbformat_minor": 2
}
